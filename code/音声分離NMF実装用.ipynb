{
  "nbformat": 4,
  "nbformat_minor": 0,
  "metadata": {
    "colab": {
      "provenance": [],
      "authorship_tag": "ABX9TyPTRs0Q6IS+6c6PKHqytG2z",
      "include_colab_link": true
    },
    "kernelspec": {
      "name": "python3",
      "display_name": "Python 3"
    },
    "language_info": {
      "name": "python"
    }
  },
  "cells": [
    {
      "cell_type": "markdown",
      "metadata": {
        "id": "view-in-github",
        "colab_type": "text"
      },
      "source": [
        "<a href=\"https://colab.research.google.com/github/Taka0007/2023-seminar-previous.term/blob/main/code/%E9%9F%B3%E5%A3%B0%E5%88%86%E9%9B%A2NMF%E5%AE%9F%E8%A3%85%E7%94%A8.ipynb\" target=\"_parent\"><img src=\"https://colab.research.google.com/assets/colab-badge.svg\" alt=\"Open In Colab\"/></a>"
      ]
    },
    {
      "cell_type": "code",
      "execution_count": 2,
      "metadata": {
        "id": "ZZrbWmRk-lnL"
      },
      "outputs": [],
      "source": [
        "# import\n",
        "import pandas as pd\n",
        "import numpy as np\n",
        "import librosa\n",
        "import librosa.display\n",
        "import matplotlib.pyplot as plt\n",
        "from numpy import linalg as LA"
      ]
    },
    {
      "cell_type": "code",
      "source": [
        "# wavファイルDL\n",
        "!wget https://github.com/Taka0007/2023-seminar-previous.term/raw/main/wav-files/aiueo.wav -O aiueo.wav\n",
        "file_path = '/content/aiueo.wav'\n",
        "audio_data, sr = librosa.load(file_path)"
      ],
      "metadata": {
        "colab": {
          "base_uri": "https://localhost:8080/"
        },
        "id": "bPVH3LrtjtQI",
        "outputId": "3e65e89d-5b10-4a47-f30b-5f8b469aa7e3"
      },
      "execution_count": 3,
      "outputs": [
        {
          "output_type": "stream",
          "name": "stdout",
          "text": [
            "--2023-06-07 06:15:28--  https://github.com/Taka0007/2023-seminar-previous.term/raw/main/wav-files/aiueo.wav\n",
            "Resolving github.com (github.com)... 192.30.255.113\n",
            "Connecting to github.com (github.com)|192.30.255.113|:443... connected.\n",
            "HTTP request sent, awaiting response... 302 Found\n",
            "Location: https://raw.githubusercontent.com/Taka0007/2023-seminar-previous.term/main/wav-files/aiueo.wav [following]\n",
            "--2023-06-07 06:15:29--  https://raw.githubusercontent.com/Taka0007/2023-seminar-previous.term/main/wav-files/aiueo.wav\n",
            "Resolving raw.githubusercontent.com (raw.githubusercontent.com)... 185.199.108.133, 185.199.109.133, 185.199.110.133, ...\n",
            "Connecting to raw.githubusercontent.com (raw.githubusercontent.com)|185.199.108.133|:443... connected.\n",
            "HTTP request sent, awaiting response... 200 OK\n",
            "Length: 32832 (32K) [audio/wav]\n",
            "Saving to: ‘aiueo.wav’\n",
            "\n",
            "aiueo.wav           100%[===================>]  32.06K  --.-KB/s    in 0.001s  \n",
            "\n",
            "2023-06-07 06:15:29 (50.1 MB/s) - ‘aiueo.wav’ saved [32832/32832]\n",
            "\n"
          ]
        },
        {
          "output_type": "stream",
          "name": "stderr",
          "text": [
            "<ipython-input-3-0da643ce9416>:4: UserWarning: PySoundFile failed. Trying audioread instead.\n",
            "  audio_data, sr = librosa.load(file_path)\n",
            "/usr/local/lib/python3.10/dist-packages/librosa/core/audio.py:184: FutureWarning: librosa.core.audio.__audioread_load\n",
            "\tDeprecated as of librosa version 0.10.0.\n",
            "\tIt will be removed in librosa version 1.0.\n",
            "  y, sr_native = __audioread_load(path, offset, duration, dtype)\n"
          ]
        }
      ]
    },
    {
      "cell_type": "code",
      "source": [
        "#高速フーリエ変換\n",
        "fft_spec = np.fft.rfft(audio_data)\n",
        "print(fft_spec)"
      ],
      "metadata": {
        "colab": {
          "base_uri": "https://localhost:8080/"
        },
        "id": "SF9oUpjskgeo",
        "outputId": "55755600-d0c7-48c9-fd58-6e67c7efde46"
      },
      "execution_count": 4,
      "outputs": [
        {
          "output_type": "stream",
          "name": "stdout",
          "text": [
            "[-2.78108568e+01+0.00000000e+00j -4.17856923e+00+1.67983792e+01j\n",
            "  2.63063313e+01+1.49804326e+01j ...  6.29508110e-03-1.11692273e-06j\n",
            "  6.29458866e-03+2.31351483e-06j  6.29570565e-03-2.41347811e-07j]\n"
          ]
        }
      ]
    },
    {
      "cell_type": "code",
      "source": [
        "type(fft_spec)"
      ],
      "metadata": {
        "colab": {
          "base_uri": "https://localhost:8080/"
        },
        "id": "ZHBo74O7V4hr",
        "outputId": "09bb79f8-652e-4719-df43-fa393d2de4b3"
      },
      "execution_count": 5,
      "outputs": [
        {
          "output_type": "execute_result",
          "data": {
            "text/plain": [
              "numpy.ndarray"
            ]
          },
          "metadata": {},
          "execution_count": 5
        }
      ]
    },
    {
      "cell_type": "code",
      "source": [
        "#非負値行列因子分解(NMF)の実行\n",
        "\n",
        "class NMF:\n",
        "  \"\"\"\n",
        "  非負値行列因子分解を行う\n",
        "  X を H,Uの2行列に分解する\n",
        "  HUがXに近づくように近似を行う\n",
        "\n",
        "  Attributes\n",
        "    --------\n",
        "    __init__:None\n",
        "      行列の初期値策定・精度指定などを行う\n",
        "\n",
        "    is_opt:bool\n",
        "      Y-HUのノルムが精度以内に収まっているか確認。\n",
        "      ここがFalseなら更新を続ける\n",
        "    \n",
        "    update:\n",
        "\n",
        "    \"\"\"\n",
        "  def __init__(self, X : np.array)-> None:\n",
        "    # 元の行列を代入\n",
        "    self.X = X\n",
        "\n",
        "    # 精度を指定(誤差をどれくらいまで許容するか)\n",
        "    self.acc = 0.1\n",
        "      \n",
        "    #行列の列数と行数を取得\n",
        "    self.numRows = X.shape[0]\n",
        "    self.numColumns = X.shape[1]\n",
        "\n",
        "    #分解後の行列の初期値策定 (0,1をランダムに分布させた行列)\n",
        "    self.H = np.random.randint(0,1,(self.numRows,1))\n",
        "    self.U = np.random.randint(0,1,(1,self.numColumns))\n",
        "    \n",
        "  # 更新を続けるか否か\n",
        "  def is_opt(self) -> bool:\n",
        "    \n",
        "    # X-HU行列\n",
        "    self.judge = self.X - self.H @ self.U\n",
        "    \n",
        "    # X-HUのノルムが、基準値を超えている（条件を満たしていない）なら更新を続ける\n",
        "    if LA.norm(self.judge,\"fro\") >= self.acc:\n",
        "      return True\n",
        "    else:\n",
        "      return False\n",
        "\n",
        "\n",
        "    #def update(self) -> np.array:\n",
        "\n",
        "     # self.\n",
        "\n"
      ],
      "metadata": {
        "id": "78YuAno_mU0E"
      },
      "execution_count": 8,
      "outputs": []
    },
    {
      "cell_type": "code",
      "source": [
        "NMF = NMF"
      ],
      "metadata": {
        "id": "XAY8aNtvW9gf"
      },
      "execution_count": null,
      "outputs": []
    }
  ]
}