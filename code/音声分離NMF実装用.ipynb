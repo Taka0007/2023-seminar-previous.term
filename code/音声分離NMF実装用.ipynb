{
  "nbformat": 4,
  "nbformat_minor": 0,
  "metadata": {
    "colab": {
      "provenance": [],
      "authorship_tag": "ABX9TyP2GH/Ur6IjNX6nc9Fm4oUD",
      "include_colab_link": true
    },
    "kernelspec": {
      "name": "python3",
      "display_name": "Python 3"
    },
    "language_info": {
      "name": "python"
    }
  },
  "cells": [
    {
      "cell_type": "markdown",
      "metadata": {
        "id": "view-in-github",
        "colab_type": "text"
      },
      "source": [
        "<a href=\"https://colab.research.google.com/github/Taka0007/2023-seminar-previous.term/blob/main/code/%E9%9F%B3%E5%A3%B0%E5%88%86%E9%9B%A2NMF%E5%AE%9F%E8%A3%85%E7%94%A8.ipynb\" target=\"_parent\"><img src=\"https://colab.research.google.com/assets/colab-badge.svg\" alt=\"Open In Colab\"/></a>"
      ]
    },
    {
      "cell_type": "code",
      "execution_count": 1,
      "metadata": {
        "id": "ZZrbWmRk-lnL"
      },
      "outputs": [],
      "source": [
        "# import\n",
        "import pandas as pd\n",
        "import numpy as np\n",
        "import librosa\n",
        "import librosa.display\n",
        "import matplotlib.pyplot as plt\n",
        "from numpy import linalg as LA\n",
        "from sklearn.decomposition import NMF"
      ]
    },
    {
      "cell_type": "code",
      "source": [
        "# wavファイルDL\n",
        "!wget https://github.com/Taka0007/2023-seminar-previous.term/raw/main/wav-files/aiueo.wav -O aiueo.wav\n",
        "file_path = '/content/aiueo.wav'\n",
        "audio_data, sr = librosa.load(file_path)"
      ],
      "metadata": {
        "colab": {
          "base_uri": "https://localhost:8080/"
        },
        "id": "bPVH3LrtjtQI",
        "outputId": "894bf5d2-8ecb-4ec0-b0c0-37c72dec0fa0"
      },
      "execution_count": 8,
      "outputs": [
        {
          "output_type": "stream",
          "name": "stdout",
          "text": [
            "--2023-06-20 08:00:20--  https://github.com/Taka0007/2023-seminar-previous.term/raw/main/wav-files/aiueo.wav\n",
            "Resolving github.com (github.com)... 140.82.112.4\n",
            "Connecting to github.com (github.com)|140.82.112.4|:443... connected.\n",
            "HTTP request sent, awaiting response... 302 Found\n",
            "Location: https://raw.githubusercontent.com/Taka0007/2023-seminar-previous.term/main/wav-files/aiueo.wav [following]\n",
            "--2023-06-20 08:00:20--  https://raw.githubusercontent.com/Taka0007/2023-seminar-previous.term/main/wav-files/aiueo.wav\n",
            "Resolving raw.githubusercontent.com (raw.githubusercontent.com)... 185.199.108.133, 185.199.109.133, 185.199.110.133, ...\n",
            "Connecting to raw.githubusercontent.com (raw.githubusercontent.com)|185.199.108.133|:443... connected.\n",
            "HTTP request sent, awaiting response... 200 OK\n",
            "Length: 32832 (32K) [audio/wav]\n",
            "Saving to: ‘aiueo.wav’\n",
            "\n",
            "aiueo.wav           100%[===================>]  32.06K  --.-KB/s    in 0.002s  \n",
            "\n",
            "2023-06-20 08:00:20 (15.0 MB/s) - ‘aiueo.wav’ saved [32832/32832]\n",
            "\n"
          ]
        },
        {
          "output_type": "stream",
          "name": "stderr",
          "text": [
            "<ipython-input-8-0da643ce9416>:4: UserWarning: PySoundFile failed. Trying audioread instead.\n",
            "  audio_data, sr = librosa.load(file_path)\n",
            "/usr/local/lib/python3.10/dist-packages/librosa/core/audio.py:184: FutureWarning: librosa.core.audio.__audioread_load\n",
            "\tDeprecated as of librosa version 0.10.0.\n",
            "\tIt will be removed in librosa version 1.0.\n",
            "  y, sr_native = __audioread_load(path, offset, duration, dtype)\n"
          ]
        }
      ]
    },
    {
      "cell_type": "code",
      "source": [
        "#高速フーリエ変換\n",
        "fft_spec = np.fft.rfft(audio_data)\n",
        "\n",
        "# NMFを行うために、fft_specを2次元配列に変換\n",
        "fft_spec = fft_spec.reshape(len(fft_spec),1)\n",
        "print(fft_spec)"
      ],
      "metadata": {
        "colab": {
          "base_uri": "https://localhost:8080/"
        },
        "id": "SF9oUpjskgeo",
        "outputId": "ef2cf510-571e-4360-a351-41f452fecd7f"
      },
      "execution_count": 20,
      "outputs": [
        {
          "output_type": "stream",
          "name": "stdout",
          "text": [
            "[[-2.78108568e+01+0.00000000e+00j]\n",
            " [-4.17856923e+00+1.67983792e+01j]\n",
            " [ 2.63063313e+01+1.49804326e+01j]\n",
            " ...\n",
            " [ 6.29508110e-03-1.11692273e-06j]\n",
            " [ 6.29458866e-03+2.31351483e-06j]\n",
            " [ 6.29570565e-03-2.41347811e-07j]]\n"
          ]
        }
      ]
    },
    {
      "cell_type": "code",
      "source": [
        "type(fft_spec)"
      ],
      "metadata": {
        "colab": {
          "base_uri": "https://localhost:8080/"
        },
        "id": "ZHBo74O7V4hr",
        "outputId": "5dc008ba-dc58-4431-d5ae-9a0f87ead727"
      },
      "execution_count": 21,
      "outputs": [
        {
          "output_type": "execute_result",
          "data": {
            "text/plain": [
              "numpy.ndarray"
            ]
          },
          "metadata": {},
          "execution_count": 21
        }
      ]
    },
    {
      "cell_type": "code",
      "source": [
        "print(fft_spec)\n",
        "print(fft_spec.shape)"
      ],
      "metadata": {
        "colab": {
          "base_uri": "https://localhost:8080/"
        },
        "id": "MKcFPbtc29dc",
        "outputId": "f0e70d8c-aa66-47e6-8de8-2600bd43fe30"
      },
      "execution_count": 22,
      "outputs": [
        {
          "output_type": "stream",
          "name": "stdout",
          "text": [
            "[[-2.78108568e+01+0.00000000e+00j]\n",
            " [-4.17856923e+00+1.67983792e+01j]\n",
            " [ 2.63063313e+01+1.49804326e+01j]\n",
            " ...\n",
            " [ 6.29508110e-03-1.11692273e-06j]\n",
            " [ 6.29458866e-03+2.31351483e-06j]\n",
            " [ 6.29570565e-03-2.41347811e-07j]]\n",
            "(54905, 1)\n"
          ]
        }
      ]
    },
    {
      "cell_type": "code",
      "source": [
        "# 複素NMFの実装\n",
        "def complex_nmf(V, rank, num_iterations):\n",
        "    # 行列のサイズを取得\n",
        "    n, m = V.shape\n",
        "\n",
        "    # WとHの初期化\n",
        "    W = np.random.rand(n, rank)\n",
        "    H = np.random.rand(rank, m)\n",
        "\n",
        "    # 反復更新\n",
        "    for i in range(num_iterations):\n",
        "        # Wの更新\n",
        "        numerator_W = np.abs(V) @ H.T\n",
        "        denominator_W = W @ H @ H.T\n",
        "        W *= numerator_W / (denominator_W + 1e-9)\n",
        "\n",
        "        # Hの更新\n",
        "        numerator_H = W.T @ np.abs(V)\n",
        "        denominator_H = W.T @ W @ H\n",
        "        H *= numerator_H / (denominator_H + 1e-9)\n",
        "\n",
        "    return W, H\n",
        "\n",
        "rank = np.linalg.matrix_rank(fft_spec)\n",
        "W, H = complex_nmf(fft_spec, rank, num_iterations=100)\n",
        "Ans = W @ H\n",
        "# 結果の表示\n",
        "print(\"W:\")\n",
        "print(W)\n",
        "\n",
        "print(\"H:\")\n",
        "print(H)\n",
        "\n",
        "print('fft_spec')\n",
        "print(fft_spec)\n",
        "\n",
        "print('Ans')\n",
        "print(Ans)\n"
      ],
      "metadata": {
        "colab": {
          "base_uri": "https://localhost:8080/"
        },
        "id": "mRPiAarD2SZS",
        "outputId": "c762856e-4905-4e98-eb78-352b5c5d60b5"
      },
      "execution_count": 24,
      "outputs": [
        {
          "output_type": "stream",
          "name": "stdout",
          "text": [
            "W:\n",
            "[[1.29850093e+02]\n",
            " [8.08224713e+01]\n",
            " [1.41344550e+02]\n",
            " ...\n",
            " [2.93919845e-02]\n",
            " [2.93896868e-02]\n",
            " [2.93949001e-02]]\n",
            "H:\n",
            "[[0.21417664]]\n",
            "fft_spec\n",
            "[[-2.78108568e+01+0.00000000e+00j]\n",
            " [-4.17856923e+00+1.67983792e+01j]\n",
            " [ 2.63063313e+01+1.49804326e+01j]\n",
            " ...\n",
            " [ 6.29508110e-03-1.11692273e-06j]\n",
            " [ 6.29458866e-03+2.31351483e-06j]\n",
            " [ 6.29570565e-03-2.41347811e-07j]]\n",
            "Ans\n",
            "[[2.78108568e+01]\n",
            " [1.73102855e+01]\n",
            " [3.02727010e+01]\n",
            " ...\n",
            " [6.29507653e-03]\n",
            " [6.29458441e-03]\n",
            " [6.29570099e-03]]\n"
          ]
        }
      ]
    },
    {
      "cell_type": "markdown",
      "source": [
        "## いらないやつ"
      ],
      "metadata": {
        "id": "oxsMv5CP2dv9"
      }
    },
    {
      "cell_type": "code",
      "source": [
        "#非負値行列因子分解(NMF)の実行\n",
        "\n",
        "class NMF:\n",
        "  \"\"\"\n",
        "  非負値行列因子分解を行う\n",
        "  X を H,Uの2行列に分解する\n",
        "  HUがXに近づくように近似を行う\n",
        "\n",
        "  Attributes\n",
        "    --------\n",
        "    __init__:None\n",
        "      行列の初期値策定・精度指定などを行う\n",
        "\n",
        "    need_opt:bool\n",
        "      Y-HUのノルムが精度以内に収まっているか確認。\n",
        "      ここがTrueなら更新を続ける\n",
        "\n",
        "    update:\n",
        "\n",
        "    \"\"\"\n",
        "  def __init__(self, X : np.array)-> None:\n",
        "    # 元の行列を代入\n",
        "    self.X = X\n",
        "\n",
        "    # 精度を指定(誤差をどれくらいまで許容するか)\n",
        "    self.acc = 0.1\n",
        "\n",
        "    #行列の列数と行数を取得\n",
        "    self.numRows = X.shape[0]\n",
        "    self.numColumns = X.shape[1]\n",
        "\n",
        "    #分解後の行列の初期値策定 (0,1をランダムに分布させた行列)\n",
        "    self.H = np.random.randint(0,1,(self.numRows,1))\n",
        "    self.U = np.random.randint(0,1,(1,self.numColumns))\n",
        "\n",
        "  # 更新を続けるか否か\n",
        "  def need_opt(self) -> bool:\n",
        "\n",
        "    # X-HU行列\n",
        "    self.judge = self.X - self.H @ self.U\n",
        "\n",
        "    # X-HUのノルムが、基準値を超えている（条件を満たしていない）なら更新を続ける\n",
        "    if LA.norm(self.judge,\"fro\") >= self.acc:\n",
        "      return True\n",
        "    else:\n",
        "      return False\n",
        "\n",
        "\n",
        "  def update(self) -> None:\n",
        "    self.H = self.H *\n",
        "\n",
        "  def solve(self) -> np.array:\n",
        "\n",
        "    while self.is_opt():\n",
        "      self.update\n"
      ],
      "metadata": {
        "id": "78YuAno_mU0E"
      },
      "execution_count": null,
      "outputs": []
    },
    {
      "cell_type": "code",
      "source": [
        "\n",
        "\n",
        "# テストデータの作成\n",
        "n = 10\n",
        "m = 8\n",
        "rank = 3\n",
        "V = np.random.rand(n, m) + 1j * np.random.rand(n, m)\n",
        "\n",
        "# 複素NMFの実行\n",
        "W, H = complex_nmf(V, rank, num_iterations=100)\n",
        "Ans = W @ H\n",
        "# 結果の表示\n",
        "print(\"W:\")\n",
        "print(W)\n",
        "\n",
        "print(\"H:\")\n",
        "print(H)\n",
        "\n",
        "print('V')\n",
        "print(V)\n",
        "\n",
        "print('Ans')\n",
        "print(Ans)"
      ],
      "metadata": {
        "id": "XAY8aNtvW9gf",
        "colab": {
          "base_uri": "https://localhost:8080/"
        },
        "outputId": "125d717a-0edd-490d-ebb9-6ead8dedf701"
      },
      "execution_count": 7,
      "outputs": [
        {
          "output_type": "stream",
          "name": "stdout",
          "text": [
            "W:\n",
            "[[4.60234494e-01 7.07096478e-02 5.43919124e-01]\n",
            " [7.15295454e-01 4.18562198e-01 1.97205819e-01]\n",
            " [7.37573522e-01 5.46081173e-01 2.52199070e-02]\n",
            " [3.24518413e-04 6.77842987e-01 5.50253317e-01]\n",
            " [9.41020773e-02 3.54494973e-01 8.82528774e-01]\n",
            " [3.59417671e-01 8.08843991e-03 7.78030769e-01]\n",
            " [6.96731383e-01 2.01720996e-01 3.29360342e-01]\n",
            " [9.97408244e-02 1.02994446e+00 1.83991273e-01]\n",
            " [1.45675933e-01 5.21425506e-01 4.33288082e-01]\n",
            " [6.79668206e-01 3.86374285e-01 2.68102677e-01]]\n",
            "H:\n",
            "[[0.427691   0.00255128 0.78485578 1.11481246 0.46715145 0.47330723\n",
            "  0.91430971 0.7236464 ]\n",
            " [0.71118857 1.2223693  0.02705469 0.613723   0.42830608 0.57867834\n",
            "  0.83659318 0.94052433]\n",
            " [0.59345522 0.42771051 1.30258761 0.05538791 0.88500753 0.82385675\n",
            "  0.27478358 0.06377027]]\n",
            "V\n",
            "[[0.08338938+0.21946722j 0.32939412+0.2679432j  0.93451726+0.26966338j\n",
            "  0.15622739+0.70225422j 0.99743858+0.40025857j 0.17964067+0.65503548j\n",
            "  0.49065981+0.37850411j 0.33110462+0.06577626j]\n",
            " [0.28119947+0.63945285j 0.2490646 +0.43647738j 0.4549201 +0.55101627j\n",
            "  0.72487937+0.76284896j 0.72363921+0.36436063j 0.72828089+0.46707207j\n",
            "  0.68326743+0.74423366j 0.25986454+0.95001528j]\n",
            " [0.07751391+0.55509503j 0.26198396+0.78429147j 0.55563348+0.46190039j\n",
            "  0.77874178+0.99749771j 0.54663774+0.46448905j 0.45884995+0.17799008j\n",
            "  0.40599358+0.9193483j  0.57444263+0.92550247j]\n",
            " [0.64923856+0.67347402j 0.70586583+0.95593069j 0.73358487+0.25559035j\n",
            "  0.44971181+0.13426605j 0.65108344+0.45177567j 0.47546265+0.52278146j\n",
            "  0.15111789+0.3665247j  0.17213723+0.74912695j]\n",
            " [0.59240241+0.06555226j 0.08153227+0.81282048j 0.96834819+0.83964672j\n",
            "  0.21345608+0.12053022j 0.88291018+0.50744594j 0.2168577 +0.94090817j\n",
            "  0.68964549+0.30775949j 0.46411081+0.33622223j]\n",
            " [0.81743568+0.47957925j 0.24329426+0.07225614j 0.93402938+0.93306673j\n",
            "  0.50531937+0.10559266j 0.54622452+0.00777011j 0.39885282+0.85940867j\n",
            "  0.23825371+0.42976596j 0.17238361+0.08497104j]\n",
            " [0.20286656+0.828135j   0.26638656+0.32948425j 0.57044426+0.9718245j\n",
            "  0.27218708+0.80394684j 0.03265824+0.32350257j 0.61420818+0.26008049j\n",
            "  0.8127132 +0.72524119j 0.57132091+0.04773048j]\n",
            " [0.04427232+0.97527785j 0.97067684+0.81044008j 0.00201264+0.33626296j\n",
            "  0.64056405+0.43848567j 0.32587261+0.20350349j 0.94872558+0.30210894j\n",
            "  0.68321916+0.98848752j 0.75085894+0.46082752j]\n",
            " [0.35669981+0.44923459j 0.60798103+0.54949343j 0.20068167+0.56342154j\n",
            "  0.44737943+0.27295338j 0.99480973+0.24007066j 0.03433087+0.56920607j\n",
            "  0.7192149 +0.17487167j 0.21205499+0.5607581j ]\n",
            " [0.66878149+0.44448487j 0.05195715+0.42453221j 0.14815537+0.81851234j\n",
            "  0.64654537+0.57914654j 0.6542071 +0.34681144j 0.21431668+0.83609611j\n",
            "  0.25637631+0.96823443j 0.88166649+0.58600857j]]\n",
            "Ans\n",
            "[[0.56991769 0.32024742 1.07163304 0.58659783 0.72665711 0.70686189\n",
            "  0.62941212 0.43423705]\n",
            " [0.7206349  0.5978095  0.8296057  1.06522435 0.68795268 0.74323673\n",
            "  1.05835678 0.92386478]\n",
            " [0.71878713 0.68018144 0.62651404 1.15879561 0.60076824 0.68588182\n",
            "  1.13814843 1.04895334]\n",
            " [0.80876368 1.06392441 0.73534668 0.44684699 0.7774542  0.84573656\n",
            "  0.71857611 0.67285246]\n",
            " [0.81610069 0.81103069 1.23301835 0.37134931 0.97683689 0.97675504\n",
            "  0.62511094 0.45778687]\n",
            " [0.62119853 0.34357598 1.2957631  0.44874086 0.85992991 0.81578148\n",
            "  0.54917588 0.31731391]\n",
            " [0.63690802 0.38922599 0.98131185 0.91876823 0.70336379 0.71784531\n",
            "  0.89628949 0.71491406]\n",
            " [0.88433356 1.33792195 0.34581174 0.75348381 0.65055921 0.79479705\n",
            "  1.00339629 1.05259808]\n",
            " [0.69027322 0.82306806 0.69283729 0.50641109 0.67484565 0.72765443\n",
            "  0.68847439 0.62346214]\n",
            " [0.72457988 0.58869642 0.89312198 1.00967902 0.72026733 0.7661565\n",
            "  1.01833555 0.87233085]]\n"
          ]
        }
      ]
    }
  ]
}