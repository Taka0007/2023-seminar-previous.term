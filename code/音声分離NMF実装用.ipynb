{
  "nbformat": 4,
  "nbformat_minor": 0,
  "metadata": {
    "colab": {
      "provenance": [],
      "authorship_tag": "ABX9TyMXjYyli/bRA/hHNrhvJq0I",
      "include_colab_link": true
    },
    "kernelspec": {
      "name": "python3",
      "display_name": "Python 3"
    },
    "language_info": {
      "name": "python"
    }
  },
  "cells": [
    {
      "cell_type": "markdown",
      "metadata": {
        "id": "view-in-github",
        "colab_type": "text"
      },
      "source": [
        "<a href=\"https://colab.research.google.com/github/Taka0007/2023-seminar-previous.term/blob/main/code/%E9%9F%B3%E5%A3%B0%E5%88%86%E9%9B%A2NMF%E5%AE%9F%E8%A3%85%E7%94%A8.ipynb\" target=\"_parent\"><img src=\"https://colab.research.google.com/assets/colab-badge.svg\" alt=\"Open In Colab\"/></a>"
      ]
    },
    {
      "cell_type": "code",
      "execution_count": 1,
      "metadata": {
        "id": "ZZrbWmRk-lnL"
      },
      "outputs": [],
      "source": [
        "# import\n",
        "import pandas as pd\n",
        "import numpy as np\n",
        "import librosa\n",
        "import librosa.display\n",
        "import matplotlib.pyplot as plt\n",
        "from numpy import linalg as LA\n",
        "from sklearn.decomposition import NMF"
      ]
    },
    {
      "cell_type": "code",
      "source": [
        "# wavファイルDL\n",
        "!wget https://github.com/Taka0007/2023-seminar-previous.term/raw/main/wav-files/aiueo.wav -O aiueo.wav\n",
        "file_path = '/content/aiueo.wav'\n",
        "audio_data, sr = librosa.load(file_path)"
      ],
      "metadata": {
        "colab": {
          "base_uri": "https://localhost:8080/"
        },
        "id": "bPVH3LrtjtQI",
        "outputId": "894bf5d2-8ecb-4ec0-b0c0-37c72dec0fa0"
      },
      "execution_count": 8,
      "outputs": [
        {
          "output_type": "stream",
          "name": "stdout",
          "text": [
            "--2023-06-20 08:00:20--  https://github.com/Taka0007/2023-seminar-previous.term/raw/main/wav-files/aiueo.wav\n",
            "Resolving github.com (github.com)... 140.82.112.4\n",
            "Connecting to github.com (github.com)|140.82.112.4|:443... connected.\n",
            "HTTP request sent, awaiting response... 302 Found\n",
            "Location: https://raw.githubusercontent.com/Taka0007/2023-seminar-previous.term/main/wav-files/aiueo.wav [following]\n",
            "--2023-06-20 08:00:20--  https://raw.githubusercontent.com/Taka0007/2023-seminar-previous.term/main/wav-files/aiueo.wav\n",
            "Resolving raw.githubusercontent.com (raw.githubusercontent.com)... 185.199.108.133, 185.199.109.133, 185.199.110.133, ...\n",
            "Connecting to raw.githubusercontent.com (raw.githubusercontent.com)|185.199.108.133|:443... connected.\n",
            "HTTP request sent, awaiting response... 200 OK\n",
            "Length: 32832 (32K) [audio/wav]\n",
            "Saving to: ‘aiueo.wav’\n",
            "\n",
            "aiueo.wav           100%[===================>]  32.06K  --.-KB/s    in 0.002s  \n",
            "\n",
            "2023-06-20 08:00:20 (15.0 MB/s) - ‘aiueo.wav’ saved [32832/32832]\n",
            "\n"
          ]
        },
        {
          "output_type": "stream",
          "name": "stderr",
          "text": [
            "<ipython-input-8-0da643ce9416>:4: UserWarning: PySoundFile failed. Trying audioread instead.\n",
            "  audio_data, sr = librosa.load(file_path)\n",
            "/usr/local/lib/python3.10/dist-packages/librosa/core/audio.py:184: FutureWarning: librosa.core.audio.__audioread_load\n",
            "\tDeprecated as of librosa version 0.10.0.\n",
            "\tIt will be removed in librosa version 1.0.\n",
            "  y, sr_native = __audioread_load(path, offset, duration, dtype)\n"
          ]
        }
      ]
    },
    {
      "cell_type": "code",
      "source": [
        "#高速フーリエ変換\n",
        "fft_spec = np.fft.rfft(audio_data)\n",
        "\n",
        "# NMFを行うために、fft_specを2次元配列に変換\n",
        "fft_spec = fft_spec.reshape(len(fft_spec),1)\n",
        "print(fft_spec)"
      ],
      "metadata": {
        "colab": {
          "base_uri": "https://localhost:8080/"
        },
        "id": "SF9oUpjskgeo",
        "outputId": "ef2cf510-571e-4360-a351-41f452fecd7f"
      },
      "execution_count": 20,
      "outputs": [
        {
          "output_type": "stream",
          "name": "stdout",
          "text": [
            "[[-2.78108568e+01+0.00000000e+00j]\n",
            " [-4.17856923e+00+1.67983792e+01j]\n",
            " [ 2.63063313e+01+1.49804326e+01j]\n",
            " ...\n",
            " [ 6.29508110e-03-1.11692273e-06j]\n",
            " [ 6.29458866e-03+2.31351483e-06j]\n",
            " [ 6.29570565e-03-2.41347811e-07j]]\n"
          ]
        }
      ]
    },
    {
      "cell_type": "code",
      "source": [
        "type(fft_spec)"
      ],
      "metadata": {
        "colab": {
          "base_uri": "https://localhost:8080/"
        },
        "id": "ZHBo74O7V4hr",
        "outputId": "5dc008ba-dc58-4431-d5ae-9a0f87ead727"
      },
      "execution_count": 21,
      "outputs": [
        {
          "output_type": "execute_result",
          "data": {
            "text/plain": [
              "numpy.ndarray"
            ]
          },
          "metadata": {},
          "execution_count": 21
        }
      ]
    },
    {
      "cell_type": "code",
      "source": [
        "print(fft_spec)\n",
        "print(fft_spec.shape)"
      ],
      "metadata": {
        "colab": {
          "base_uri": "https://localhost:8080/"
        },
        "id": "MKcFPbtc29dc",
        "outputId": "f0e70d8c-aa66-47e6-8de8-2600bd43fe30"
      },
      "execution_count": 22,
      "outputs": [
        {
          "output_type": "stream",
          "name": "stdout",
          "text": [
            "[[-2.78108568e+01+0.00000000e+00j]\n",
            " [-4.17856923e+00+1.67983792e+01j]\n",
            " [ 2.63063313e+01+1.49804326e+01j]\n",
            " ...\n",
            " [ 6.29508110e-03-1.11692273e-06j]\n",
            " [ 6.29458866e-03+2.31351483e-06j]\n",
            " [ 6.29570565e-03-2.41347811e-07j]]\n",
            "(54905, 1)\n"
          ]
        }
      ]
    },
    {
      "cell_type": "code",
      "source": [
        "# 複素NMFの実装\n",
        "def complex_nmf(V, rank, num_iterations):\n",
        "    # 行列のサイズを取得\n",
        "    n, m = V.shape\n",
        "\n",
        "    # WとHの初期化\n",
        "    W = np.random.rand(n, rank)\n",
        "    H = np.random.rand(rank, m)\n",
        "\n",
        "    # 反復更新\n",
        "    for i in range(num_iterations):\n",
        "        # Wの更新\n",
        "        numerator_W = np.abs(V) @ H.T\n",
        "        denominator_W = W @ H @ H.T\n",
        "        W *= numerator_W / (denominator_W + 1e-9)\n",
        "\n",
        "        # Hの更新\n",
        "        numerator_H = W.T @ np.abs(V)\n",
        "        denominator_H = W.T @ W @ H\n",
        "        H *= numerator_H / (denominator_H + 1e-9)\n",
        "\n",
        "    return W, H\n",
        "\n",
        "rank = np.linalg.matrix_rank(fft_spec)\n",
        "W, H = complex_nmf(fft_spec, rank, num_iterations=100)\n",
        "Ans = W @ H\n",
        "# 結果の表示\n",
        "print(\"W:\")\n",
        "print(W)\n",
        "\n",
        "print(\"H:\")\n",
        "print(H)\n",
        "\n",
        "print('fft_spec')\n",
        "print(fft_spec)\n",
        "\n",
        "print('Ans')\n",
        "print(Ans)\n"
      ],
      "metadata": {
        "colab": {
          "base_uri": "https://localhost:8080/"
        },
        "id": "mRPiAarD2SZS",
        "outputId": "c762856e-4905-4e98-eb78-352b5c5d60b5"
      },
      "execution_count": 24,
      "outputs": [
        {
          "output_type": "stream",
          "name": "stdout",
          "text": [
            "W:\n",
            "[[1.29850093e+02]\n",
            " [8.08224713e+01]\n",
            " [1.41344550e+02]\n",
            " ...\n",
            " [2.93919845e-02]\n",
            " [2.93896868e-02]\n",
            " [2.93949001e-02]]\n",
            "H:\n",
            "[[0.21417664]]\n",
            "fft_spec\n",
            "[[-2.78108568e+01+0.00000000e+00j]\n",
            " [-4.17856923e+00+1.67983792e+01j]\n",
            " [ 2.63063313e+01+1.49804326e+01j]\n",
            " ...\n",
            " [ 6.29508110e-03-1.11692273e-06j]\n",
            " [ 6.29458866e-03+2.31351483e-06j]\n",
            " [ 6.29570565e-03-2.41347811e-07j]]\n",
            "Ans\n",
            "[[2.78108568e+01]\n",
            " [1.73102855e+01]\n",
            " [3.02727010e+01]\n",
            " ...\n",
            " [6.29507653e-03]\n",
            " [6.29458441e-03]\n",
            " [6.29570099e-03]]\n"
          ]
        }
      ]
    },
    {
      "cell_type": "markdown",
      "source": [
        "## 参考資料\n",
        "\n",
        "[【超初心者向け】複素NMFとは？更新式を丁寧に導出。](https://tips-memo.com/complex-nmf)"
      ],
      "metadata": {
        "id": "uo6YV3KW6YZP"
      }
    }
  ]
}