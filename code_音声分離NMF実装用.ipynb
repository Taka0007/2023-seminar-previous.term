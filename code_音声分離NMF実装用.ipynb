{
  "nbformat": 4,
  "nbformat_minor": 0,
  "metadata": {
    "colab": {
      "provenance": [],
      "authorship_tag": "ABX9TyNZz5iofMuMhIi/MS9E0HgP",
      "include_colab_link": true
    },
    "kernelspec": {
      "name": "python3",
      "display_name": "Python 3"
    },
    "language_info": {
      "name": "python"
    }
  },
  "cells": [
    {
      "cell_type": "markdown",
      "metadata": {
        "id": "view-in-github",
        "colab_type": "text"
      },
      "source": [
        "<a href=\"https://colab.research.google.com/github/Taka0007/2023-seminar-previous.term/blob/main/code_%E9%9F%B3%E5%A3%B0%E5%88%86%E9%9B%A2NMF%E5%AE%9F%E8%A3%85%E7%94%A8.ipynb\" target=\"_parent\"><img src=\"https://colab.research.google.com/assets/colab-badge.svg\" alt=\"Open In Colab\"/></a>"
      ]
    },
    {
      "cell_type": "code",
      "execution_count": 1,
      "metadata": {
        "id": "ZZrbWmRk-lnL"
      },
      "outputs": [],
      "source": [
        "# import\n",
        "import pandas as pd\n",
        "import numpy as np\n",
        "import librosa\n",
        "import librosa.display\n",
        "import matplotlib.pyplot as plt"
      ]
    },
    {
      "cell_type": "code",
      "source": [
        "# wavファイルDL\n",
        "!wget https://github.com/Taka0007/2023-seminar-previous.term/raw/main/wav-files/aiueo.wav -O aiueo.wav\n",
        "file_path = '/content/aiueo.wav'\n",
        "audio_data, sr = librosa.load(file_path)"
      ],
      "metadata": {
        "colab": {
          "base_uri": "https://localhost:8080/"
        },
        "id": "bPVH3LrtjtQI",
        "outputId": "9c43da48-4659-4986-e114-6a9eaee4ed91"
      },
      "execution_count": 6,
      "outputs": [
        {
          "output_type": "stream",
          "name": "stdout",
          "text": [
            "--2023-06-03 09:33:44--  https://github.com/Taka0007/2023-seminar-previous.term/raw/main/wav-files/aiueo.wav\n",
            "Resolving github.com (github.com)... 140.82.121.4\n",
            "Connecting to github.com (github.com)|140.82.121.4|:443... connected.\n",
            "HTTP request sent, awaiting response... 302 Found\n",
            "Location: https://raw.githubusercontent.com/Taka0007/2023-seminar-previous.term/main/wav-files/aiueo.wav [following]\n",
            "--2023-06-03 09:33:45--  https://raw.githubusercontent.com/Taka0007/2023-seminar-previous.term/main/wav-files/aiueo.wav\n",
            "Resolving raw.githubusercontent.com (raw.githubusercontent.com)... 185.199.108.133, 185.199.109.133, 185.199.110.133, ...\n",
            "Connecting to raw.githubusercontent.com (raw.githubusercontent.com)|185.199.108.133|:443... connected.\n",
            "HTTP request sent, awaiting response... 200 OK\n",
            "Length: 32832 (32K) [audio/wav]\n",
            "Saving to: ‘aiueo.wav’\n",
            "\n",
            "aiueo.wav           100%[===================>]  32.06K  --.-KB/s    in 0s      \n",
            "\n",
            "2023-06-03 09:33:45 (115 MB/s) - ‘aiueo.wav’ saved [32832/32832]\n",
            "\n"
          ]
        },
        {
          "output_type": "stream",
          "name": "stderr",
          "text": [
            "<ipython-input-6-0da643ce9416>:4: UserWarning: PySoundFile failed. Trying audioread instead.\n",
            "  audio_data, sr = librosa.load(file_path)\n",
            "/usr/local/lib/python3.10/dist-packages/librosa/core/audio.py:184: FutureWarning: librosa.core.audio.__audioread_load\n",
            "\tDeprecated as of librosa version 0.10.0.\n",
            "\tIt will be removed in librosa version 1.0.\n",
            "  y, sr_native = __audioread_load(path, offset, duration, dtype)\n"
          ]
        }
      ]
    },
    {
      "cell_type": "code",
      "source": [
        "#高速フーリエ変換\n",
        "fft_spec = np.fft.rfft(audio_data)\n",
        "print(fft_spec)"
      ],
      "metadata": {
        "colab": {
          "base_uri": "https://localhost:8080/"
        },
        "id": "SF9oUpjskgeo",
        "outputId": "a61a1ee3-4ff7-4b85-c44f-b35065ea9219"
      },
      "execution_count": 8,
      "outputs": [
        {
          "output_type": "stream",
          "name": "stdout",
          "text": [
            "[-2.78108568e+01+0.00000000e+00j -4.17856923e+00+1.67983792e+01j\n",
            "  2.63063313e+01+1.49804326e+01j ...  6.29508110e-03-1.11692273e-06j\n",
            "  6.29458866e-03+2.31351483e-06j  6.29570565e-03-2.41347811e-07j]\n"
          ]
        }
      ]
    },
    {
      "cell_type": "code",
      "source": [
        "#非負値行列因子分解(NMF)の実行"
      ],
      "metadata": {
        "id": "78YuAno_mU0E"
      },
      "execution_count": null,
      "outputs": []
    }
  ]
}